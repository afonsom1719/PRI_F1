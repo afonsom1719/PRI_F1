{
 "cells": [
  {
   "cell_type": "markdown",
   "metadata": {},
   "source": [
    "## Looking for missing values"
   ]
  },
  {
   "cell_type": "code",
   "execution_count": 2,
   "metadata": {},
   "outputs": [
    {
     "name": "stdout",
     "output_type": "stream",
     "text": [
      "circuitId     0\n",
      "circuitRef    0\n",
      "name          0\n",
      "location      0\n",
      "country       0\n",
      "lat           0\n",
      "lng           0\n",
      "alt           3\n",
      "url           0\n",
      "dtype: int64\n",
      "constructorId     0\n",
      "constructorRef    0\n",
      "name              0\n",
      "nationality       0\n",
      "url               0\n",
      "dtype: int64\n",
      "constructorResultsId        0\n",
      "raceId                      0\n",
      "constructorId               0\n",
      "points                      0\n",
      "status                  12303\n",
      "dtype: int64\n",
      "constructorStandingsId    0\n",
      "raceId                    0\n",
      "constructorId             0\n",
      "points                    0\n",
      "position                  0\n",
      "positionText              0\n",
      "wins                      0\n",
      "dtype: int64\n",
      "constructorId     0\n",
      "constructorRef    0\n",
      "name              0\n",
      "nationality       0\n",
      "url               0\n",
      "dtype: int64\n",
      "constructorId     0\n",
      "constructorRef    0\n",
      "name              0\n",
      "nationality       0\n",
      "url               0\n",
      "dtype: int64\n",
      "constructorId     0\n",
      "constructorRef    0\n",
      "name              0\n",
      "nationality       0\n",
      "url               0\n",
      "dtype: int64\n"
     ]
    }
   ],
   "source": [
    "import pandas as pd\n",
    "import matplotlib.pyplot as plt\n",
    "import seaborn as sb\n",
    "\n",
    "circuits = pd.read_csv(\"f1db_csv/circuits.csv\", na_filter=True)\n",
    "constructors = pd.read_csv(\"f1db_csv/constructors.csv\", na_filter=True)\n",
    "constructorsResults = pd.read_csv(\"f1db_csv/constructor_results.csv\", na_filter=True)\n",
    "constructorsStandings = pd.read_csv(\"f1db_csv/constructor_standings.csv\", na_filter=True)\n",
    "drivers = pd.read_csv(\"f1db_csv/drivers.csv\", na_filter=True)\n",
    "driverStandings = pd.read_csv(\"f1db_csv/driver_standings.csv\", na_filter=True)\n",
    "lapTimes = pd.read_csv(\"f1db_csv/lap_times.csv\", na_filter=True)\n",
    "\n",
    "# replace \"\\N\" with NaN\n",
    "circuits.replace(r'^\\\\N$', pd.NA, regex=True, inplace=True)\n",
    "constructors.replace(r'^\\\\N$', pd.NA, regex=True, inplace=True)\n",
    "constructorsResults.replace(r'^\\\\N$', pd.NA, regex=True, inplace=True)\n",
    "constructorsStandings.replace(r'^\\\\N$', pd.NA, regex=True, inplace=True)\n",
    "drivers.replace(r'^\\\\N$', pd.NA, regex=True, inplace=True)\n",
    "driverStandings.replace(r'^\\\\N$', pd.NA, regex=True, inplace=True)\n",
    "lapTimes.replace(r'^\\\\N$', pd.NA, regex=True, inplace=True)\n",
    "\n",
    "# looking for missing values\n",
    "circuits_missing_values = circuits.isna()\n",
    "constructors_missing_values = constructors.isna()\n",
    "constructorsResults_missing_values = constructorsResults.isna()\n",
    "constructorsStandings_missing_values = constructorsStandings.isna()\n",
    "drivers_missing_values = constructors.isna()\n",
    "driverStandings_missing_values = constructors.isna()\n",
    "lapTimes_missing_values = constructors.isna()\n",
    "\n",
    "print(circuits_missing_values.sum())\n",
    "print(constructors_missing_values.sum())\n",
    "print(constructorsResults_missing_values.sum())\n",
    "print(constructorsStandings_missing_values.sum())\n",
    "print(drivers_missing_values.sum())\n",
    "print(driverStandings_missing_values.sum())\n",
    "print(lapTimes_missing_values.sum())\n"
   ]
  }
 ],
 "metadata": {
  "kernelspec": {
   "display_name": "Python 3",
   "language": "python",
   "name": "python3"
  },
  "language_info": {
   "codemirror_mode": {
    "name": "ipython",
    "version": 3
   },
   "file_extension": ".py",
   "mimetype": "text/x-python",
   "name": "python",
   "nbconvert_exporter": "python",
   "pygments_lexer": "ipython3",
   "version": "3.9.13"
  },
  "orig_nbformat": 4
 },
 "nbformat": 4,
 "nbformat_minor": 2
}
