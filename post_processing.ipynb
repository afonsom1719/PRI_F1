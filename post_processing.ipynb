{
 "cells": [
  {
   "cell_type": "code",
   "execution_count": 7,
   "metadata": {},
   "outputs": [],
   "source": [
    "import pandas as pd\n",
    "\n",
    "seasons = pd.read_json(\"./f1db_json/seasons_data.json\")\n",
    "\n",
    "#for each value in driver_changes or reg_changes, replace the newline character for \" \"\n",
    "seasons['driver_changes'] = seasons['driver_changes'].str.replace('\\n', ' ')\n",
    "seasons['reg_changes'] = seasons['reg_changes'].str.replace('\\n', ' ')\n",
    "\n",
    "#save to json\n",
    "\n",
    "json_data = seasons.to_json(orient='records', lines=True, force_ascii=False)\n",
    "\n",
    "# Wrap the JSON data with square brackets at the beginning and end, and join records with commas\n",
    "formatted_json = \"[\" + \",\".join(json_data.split('\\n')[:-1]) + \"]\" + json_data.split('\\n')[-1]\n",
    "\n",
    "# Save the formatted JSON to a file\n",
    "with open(\"./f1db_json/seasons_data.json\", 'w') as file:\n",
    "    file.write(formatted_json)"
   ]
  }
 ],
 "metadata": {
  "kernelspec": {
   "display_name": "Python 3",
   "language": "python",
   "name": "python3"
  },
  "language_info": {
   "codemirror_mode": {
    "name": "ipython",
    "version": 3
   },
   "file_extension": ".py",
   "mimetype": "text/x-python",
   "name": "python",
   "nbconvert_exporter": "python",
   "pygments_lexer": "ipython3",
   "version": "3.11.5"
  }
 },
 "nbformat": 4,
 "nbformat_minor": 2
}
