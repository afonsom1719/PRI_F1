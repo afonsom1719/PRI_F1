{
 "cells": [
  {
   "cell_type": "code",
   "execution_count": 1,
   "metadata": {},
   "outputs": [],
   "source": [
    "import pandas as pd\n",
    "\n",
    "seasons = pd.read_json(\"./f1db_json/seasons_data.json\")\n",
    "\n",
    "#for each value in driver_changes or reg_changes, replace the newline character for \" \"\n",
    "seasons['driver_changes'] = seasons['driver_changes'].str.replace('\\n', ' ')\n",
    "seasons['reg_changes'] = seasons['reg_changes'].str.replace('\\n', ' ')\n",
    "\n",
    "#save to json\n",
    "\n",
    "seasons.to_json(\"./f1db_json/seasons_data.json\", orient='records')"
   ]
  }
 ],
 "metadata": {
  "kernelspec": {
   "display_name": "Python 3",
   "language": "python",
   "name": "python3"
  },
  "language_info": {
   "codemirror_mode": {
    "name": "ipython",
    "version": 3
   },
   "file_extension": ".py",
   "mimetype": "text/x-python",
   "name": "python",
   "nbconvert_exporter": "python",
   "pygments_lexer": "ipython3",
   "version": "3.11.5"
  }
 },
 "nbformat": 4,
 "nbformat_minor": 2
}
