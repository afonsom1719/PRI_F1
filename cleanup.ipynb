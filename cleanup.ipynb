{
 "cells": [
  {
   "cell_type": "code",
   "execution_count": null,
   "metadata": {},
   "outputs": [],
   "source": [
    "# Cleanup some fields that are noew duplicated or are useless\n",
    "\n",
    "import pandas as pd\n",
    "\n",
    "# circuits - none - but deal with lat and lng\n",
    "# constructor_standings - none\n",
    "# constructors - none\n",
    "# driver_standings - none\n",
    "# drivers - none\n",
    "# lap_times - delete time field - we already have milliseconda\n",
    "# pit_stops - delete duration field - we already have milliseconds\n",
    "# qualifying - delete q1, q2, q3 - we already have milliseconds\n",
    "# races - delete date, time, and both fields for fp1, fp2, fp3, quali and sprint - all joined in datetime fields\n",
    "# results - delete time and fastestLapTime - we already have milliseconds\n",
    "# seasons - none but add the driver_changes and reg_changes columns\n",
    "# status - none\n",
    "\n",
    "cleanup_path = './db_cleanup/'\n",
    "export_path = './f1db_json/'\n",
    "\n",
    "#lap_times \n",
    "\n",
    "lap_times = pd.read_json(cleanup_path + 'lap_times.json')\n",
    "lap_times = lap_times.drop(columns=['time'])\n",
    "\n",
    "\n",
    "\n",
    "\n"
   ]
  }
 ],
 "metadata": {
  "kernelspec": {
   "display_name": "Python 3",
   "language": "python",
   "name": "python3"
  },
  "language_info": {
   "name": "python",
   "version": "3.11.5"
  }
 },
 "nbformat": 4,
 "nbformat_minor": 2
}
