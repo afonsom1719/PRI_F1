{
 "cells": [
  {
   "cell_type": "code",
   "execution_count": 9,
   "metadata": {},
   "outputs": [
    {
     "name": "stdout",
     "output_type": "stream",
     "text": [
      "88971 milliseconds is equivalent to 01:28.971\n"
     ]
    }
   ],
   "source": [
    "def convert_milliseconds_to_time(milliseconds):\n",
    "    # Calculate minutes, seconds, and milliseconds\n",
    "    minutes, remainder = divmod(milliseconds, 60000)\n",
    "    seconds, milliseconds = divmod(remainder, 1000)\n",
    "\n",
    "    # Format the result as MM:SS.MS\n",
    "    result = f\"{int(minutes):02d}:{int(seconds):02d}.{int(milliseconds):03d}\"\n",
    "\n",
    "    return result\n",
    "\n",
    "# Example usage:\n",
    "milliseconds_value = 88971\n",
    "formatted_time = convert_milliseconds_to_time(milliseconds_value)\n",
    "print(f\"{milliseconds_value} milliseconds is equivalent to {formatted_time}\")\n"
   ]
  }
 ],
 "metadata": {
  "kernelspec": {
   "display_name": "Python 3",
   "language": "python",
   "name": "python3"
  },
  "language_info": {
   "codemirror_mode": {
    "name": "ipython",
    "version": 3
   },
   "file_extension": ".py",
   "mimetype": "text/x-python",
   "name": "python",
   "nbconvert_exporter": "python",
   "pygments_lexer": "ipython3",
   "version": "3.11.5"
  }
 },
 "nbformat": 4,
 "nbformat_minor": 2
}
