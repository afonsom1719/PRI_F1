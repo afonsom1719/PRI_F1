{
 "cells": [
  {
   "cell_type": "markdown",
   "metadata": {},
   "source": [
    "# Metrics "
   ]
  },
  {
   "cell_type": "markdown",
   "metadata": {},
   "source": [
    "### Setup imports, qrels files and query URL's"
   ]
  },
  {
   "cell_type": "code",
   "execution_count": 196,
   "metadata": {},
   "outputs": [
    {
     "name": "stdout",
     "output_type": "stream",
     "text": [
      "[{'driverId': 19, 'driverRef': 'davidson', 'code': 'DAV', 'forename': 'Anthony', 'surname': 'Davidson', 'dateOfBirth': '1979-04-18T00:00:00Z', 'nationality': 'British', 'url': 'http://en.wikipedia.org/wiki/Anthony_Davidson', 'driver_bio': 'Anthony Denis Davidson (born 18 April 1979) is a British former racing driver, currently working as an analyst for the Sky Sports F1 television channel, as part of the commentary team for WEC TV, as colour commentator for the F1 series of video games, and as simulator and demonstration driver for Mercedes AMG Petronas. He is best known for racing in Formula One for Minardi and Super Aguri, and has been a test or reserve driver for the British American Racing, Honda, and Brawn GP teams. Davidson was the 2014 WEC World Champion, alongside his teammate, Sébastien Buemi.', 'id': '6afeddc1-9d08-4a89-917c-36ee8cea189c', '_version_': 1784587388246294529}, {'driverId': 140, 'driverRef': 'johansson', 'forename': 'Stefan', 'surname': 'Johansson', 'dateOfBirth': '1956-09-08T00:00:00Z', 'nationality': 'Swedish', 'url': 'http://en.wikipedia.org/wiki/Stefan_Johansson', 'driver_bio': 'Stefan Nils Edwin Johansson (born 8 September 1956) is a Swedish racing driver who drove in Formula One for both Ferrari and McLaren, among other teams. Since leaving Formula One he has won the 1997 24 Hours of Le Mans and raced in a number of categories, including CART, various kinds of Sports car racing and Grand Prix Masters.', 'id': '54067709-63fb-498c-973c-c9b3b161e101', '_version_': 1784587388280897536}, {'driverId': 186, 'driverRef': 'acheson', 'forename': 'Kenny', 'surname': 'Acheson', 'dateOfBirth': '1957-11-27T00:00:00Z', 'nationality': 'British', 'url': 'http://en.wikipedia.org/wiki/Kenny_Acheson', 'driver_bio': 'Kenneth Henry Acheson (born 27 November 1957) is a British former racing driver from Northern Ireland who competed for RAM Racing in the 1983 and 1985 Formula One seasons. He completed only one of his three race starts, finishing in 12th position in the 1983 South African Grand Prix.  In 1985, he was a substitute for Manfred Winkelhock, who was killed in a sportscar race during the season.', 'id': '2813bb76-5719-4fb8-a1e2-f56ca3dbecfb', '_version_': 1784587388290334723}, {'driverId': 187, 'driverRef': 'watson', 'forename': 'John', 'surname': 'Watson', 'dateOfBirth': '1946-05-04T00:00:00Z', 'nationality': 'British', 'url': 'http://en.wikipedia.org/wiki/John_Watson_(racing_driver)', 'driver_bio': \"John Marshall Watson, MBE (born 4 May 1946) is a British former racing driver and current commentator from Northern Ireland. He competed in Formula One, winning five Grands Prix and was third in the 1982 championship. He also competed in the World Sportscar Championship finishing second in the 1987 championship. After his retirement from motorsport, he became a commentator for Eurosport's coverage of Formula One from 1989 to 1996. He currently commentates on the GT World Challenge Europe and commentated on the 2022 Miami F1 Grand Prix for F1TV.\", 'id': '0c63ec64-de7f-4f8d-abc6-a9e596347157', '_version_': 1784587388290334724}, {'driverId': 238, 'driverRef': 'peterson', 'forename': 'Ronnie', 'surname': 'Peterson', 'dateOfBirth': '1944-02-14T00:00:00Z', 'nationality': 'Swedish', 'url': 'http://en.wikipedia.org/wiki/Ronnie_Peterson', 'driver_bio': \"Bengt Ronnie Peterson (Swedish pronunciation: [ˈrɔ̌nːɪ ˈpêtːɛˌʂɔn]; 14 February 1944 – 11 September 1978) was a Swedish racing driver. Known by the nickname 'SuperSwede', he was a two-time runner-up in the  Formula One World Drivers' Championship.Peterson began his motor racing career in kart racing, traditionally the discipline where the majority of race drivers begin their careers in open-wheel racing. After winning a number of karting titles, including two Swedish titles in 1963 and 1964, he moved on to Formula Three, where he won the Monaco Grand Prix Formula Three support race for the 1969 Grand Prix. Later that year he won the FIA European Formula 3 Championship and moved up into Formula One, racing for the March factory team. In his three-year spell with the team, he took six podiums, most of which were scored during the 1971 Formula One season in which he also finished as runner-up in the Drivers' Championship.After seeing out his three-year contract at March, Peterson joined Colin Chapman's Team Lotus in the 1973 season, partnering defending champion Emerson Fittipaldi. During his first two seasons with Lotus, Peterson took seven victories, scoring a career-best 52 points in 1973. After a poor 1975 season, Peterson moved back to March and scored his final victory for the team at the 1976 Italian Grand Prix. After spending the 1977 season with Tyrrell, he moved back to Lotus for the 1978 season as number two driver to Mario Andretti. Peterson scored two wins, at the South African and Austrian Grand Prix races, and finished second in the Drivers' Championship standings despite his fatal first-lap accident at Monza during the Italian Grand Prix.\", 'id': '50a55f2c-31de-428b-b038-294eec44d565', '_version_': 1784587388302917633}, {'driverId': 255, 'driverRef': 'nilsson', 'forename': 'Gunnar', 'surname': 'Nilsson', 'dateOfBirth': '1948-11-20T00:00:00Z', 'nationality': 'Swedish', 'url': 'http://en.wikipedia.org/wiki/Gunnar_Nilsson', 'driver_bio': 'Gunnar Axel Arvid Nilsson (20 November 1948 – 20 October 1978) was a Swedish racing driver. Before entering Formula One, he won the 1975 British Formula 3 Championship.Nilsson entered 32 Formula One Grand Prix races, qualifying for all of them. He won the 1977 Belgian Grand Prix at Zolder while driving for Team Lotus. After losing his Lotus seat, he signed for Arrows for 1978, but was later diagnosed with testicular cancer which meant he could not drive the car. However, he did compete in three International Race of Champions (IROC) races in 1977. He had two sixth-place finishes and a fifth-place finish.As soon as the cancer was determined to be terminal, he created the Gunnar Nilsson Cancer Foundation. He died in October 1978.', 'id': 'a1b60039-2fdf-4f07-bb5a-cd4254f5c034', '_version_': 1784587388306063360}, {'driverId': 260, 'driverRef': 'andersson', 'forename': 'Conny', 'surname': 'Andersson', 'dateOfBirth': '1939-12-28T00:00:00Z', 'nationality': 'Swedish', 'url': 'http://en.wikipedia.org/wiki/Conny_Andersson_(racing_driver)', 'driver_bio': 'Conrad \"Conny\" Andersson (born 28 December 1939 in Alingsås, Sweden) is a Swedish former racing driver who participated in Formula One during 1976 and 1977 for the Surtees and BRM teams.Prior to his Formula One career, Andersson was a motocross rider and competed in Formula 3 racing as a privateer for almost ten years, obtaining a lot of success. He won the 1974 Swedish Formula 3 Championship, and in 1975 he competed in the European Formula 3 Championship, where he won at Monaco and the following season won four more races.', 'id': 'afcde1fc-d508-404d-9987-9c3ca16e4fb8', '_version_': 1784587388306063365}, {'driverId': 300, 'driverRef': 'nicholson', 'forename': 'John', 'surname': 'Nicholson', 'dateOfBirth': '1941-10-06T00:00:00Z', 'nationality': 'New Zealander', 'url': 'http://en.wikipedia.org/wiki/John_Nicholson_(racing_driver)', 'driver_bio': \"John Nicholson (6 October 1941 – 19 September 2017) was a racing driver from Auckland, New Zealand. He participated in two Formula One World Championship Grands Prix, debuting on 20 July 1974.  He scored no championship points.Nicholson was the 1973 and 1974 British Formula Atlantic champion, using a Lyncar chassis and in his 'day job' was an engine-builder for McLaren. Nicholson also worked for Cosworth, Lotus and Embassy Hill, and he prepared a Saab engine for use in a Reynard Formula Three car.Following his Formula Atlantic success, Nicholson commissioned Martin Slater of Lyncar to build him a Formula One car, despite, by this time, having established his own engine building business, which meant he was unable to commit to a full grand prix season. His race entries, therefore, were mainly in non-championship races. He entered the British Grand Prix in 1974 and 1975 and qualified for the latter race. He was classified 17th, five laps behind, despite crashing in the heavy storm towards the end of the race. Nicholson subsequently planned a further and stronger attempt at Formula One with a privateer McLaren M23 but the purchase of the chassis fell through. He did continue in both Formula Two and Formula 5000 in 1976 before racing in his native New Zealand in January 1977.After retiring from racing, Nicholson turned his sporting attention to powerboat racing as well as continuing with his business interests.He died in 2017 at the age of 75.\", 'id': '37022b19-cf1a-4853-bbc1-efff55a76f0a', '_version_': 1784587388314451972}, {'driverId': 309, 'driverRef': 'revson', 'forename': 'Peter', 'surname': 'Revson', 'dateOfBirth': '1939-02-27T00:00:00Z', 'nationality': 'American', 'url': 'http://en.wikipedia.org/wiki/Peter_Revson', 'driver_bio': \"Peter Jeffrey Revson (February 27, 1939 – March 22, 1974) was an American race car driver and heir to the Revlon cosmetics fortune.  He was the Can-Am Champion for the 1971 season, and finished fifth overall in the World Drivers' Championship for both the 1972 and 1973 Formula One seasons.\", 'id': '103b6ab7-ab8b-4109-a450-708cc7b13606', '_version_': 1784587388316549121}, {'driverId': 335, 'driverRef': 'williamson', 'forename': 'Roger', 'surname': 'Williamson', 'dateOfBirth': '1948-02-02T00:00:00Z', 'nationality': 'British', 'url': 'http://en.wikipedia.org/wiki/Roger_Williamson', 'driver_bio': 'Roger Williamson (2 February 1948 – 29 July 1973) was a British racing driver, a two time British Formula 3 champion, who died during his second Formula One race, the 1973 Dutch Grand Prix at Zandvoort Circuit in the Netherlands.', 'id': '13366cf7-b823-4ed3-8d26-27b2d8d2f4c0', '_version_': 1784587388332277761}, {'driverId': 366, 'driverRef': 'hutchison', 'forename': 'Gus', 'surname': 'Hutchison', 'dateOfBirth': '1937-04-26T00:00:00Z', 'nationality': 'American', 'url': 'http://en.wikipedia.org/wiki/Gus_Hutchison', 'driver_bio': 'Augustus Hutchison (born April 26, 1937 in Atlanta, Georgia) is a former racecar driver from the United States.He was the winner of the 1967 SCCA Grand Prix Championship driving a Lotus 41.In 1970, he purchased a Formula One Brabham BT26, entering it in the 1970 United States Grand Prix.  He retired after 21 laps with a loose fuel tank.When Formula A became Formula 5000, Hutchison continued driving in the SCCA series, driving cars from Lola and March.After retiring from racing, Hutchison focused on running his business, Solar Kinetics, based in Dallas.', 'id': '7af865db-8b9c-4a97-8a09-12b36a52a7ee', '_version_': 1784587388338569217}, {'driverId': 383, 'driverRef': 'anderson', 'forename': 'Bob', 'surname': 'Anderson', 'dateOfBirth': '1931-05-19T00:00:00Z', 'nationality': 'British', 'url': 'http://en.wikipedia.org/wiki/Bob_Anderson_(racing_driver)', 'driver_bio': 'Robert Hugh Fearon Anderson (19 May 1931 – 14 August 1967) was a British Grand Prix motorcycle road racer and racing driver. He competed in Grand Prix motorcycle racing from 1958 to 1960 and in Formula One from 1963 to the 1967 seasons. He was also a two-time winner of the North West 200 race in Northern Ireland. Anderson was one of the last independent privateer drivers in Formula One before escalating costs made it impossible to compete without sponsorship.', 'id': '52b4d941-6048-4344-ab40-53f7e3eaf420', '_version_': 1784587388341714945}, {'driverId': 398, 'driverRef': 'vic_wilson', 'forename': 'Vic', 'surname': 'Wilson', 'dateOfBirth': '1931-04-14T00:00:00Z', 'nationality': 'British', 'url': 'http://en.wikipedia.org/wiki/Vic_Wilson_(motor_racing_driver)', 'driver_bio': 'Victor Arthur Wilson (14 April 1931 – 14 January 2001) was a British racing driver.Born in Hull and raised in South Africa, Wilson participated in two Formula One World Championship Grands Prix, the 1960 Italian Grand Prix at Monza and the 1966 Belgian Grand Prix at Spa-Francorchamps. In the former, he drove a private Cooper-Climax and retired just before half-distance, while in the latter he was entered in a private BRM but was forced to give his car to American Bob Bondurant before the race. He also participated in some non-Championship Formula One races.After racing, Wilson worked as a motor dealer before dying in a motor accident at Gerrards Cross, Buckinghamshire.', 'id': '8f972947-55fe-487d-aa7b-99f596f4a926', '_version_': 1784587388343812096}, {'driverId': 421, 'driverRef': 'rollinson', 'forename': 'Alan', 'surname': 'Rollinson', 'dateOfBirth': '1943-05-15T00:00:00Z', 'nationality': 'British', 'url': 'http://en.wikipedia.org/wiki/Alan_Rollinson', 'driver_bio': 'Alan William Rollinson (15 May 1943 – 2 June 2019) was a British racing driver from England. He entered one Formula One World Championship Grand Prix, the 1965 British Grand Prix, with a Cooper T71/73 run by Gerard Racing, but he failed to qualify. He competed more successfully in various other formulas, including Formula 5000.He died of cancer in 2019.', 'id': 'f7419897-d2db-4ab4-a4d6-e80310e762c9', '_version_': 1784587388345909249}, {'driverId': 477, 'driverRef': 'allison', 'forename': 'Cliff', 'surname': 'Allison', 'dateOfBirth': '1932-02-08T00:00:00Z', 'nationality': 'British', 'url': 'http://en.wikipedia.org/wiki/Cliff_Allison', 'driver_bio': 'Henry Clifford Allison (8 February 1932 – 7 April 2005) was a British racing driver from England, who participated in Formula One during seasons 1958 to 1961 for the Lotus, Scuderia Centro Sud, Ferrari and UDT Laystall teams.  He was born and died in Brough, Westmorland (now Cumbria).', 'id': '00fb2f8b-dcad-4426-8ee5-fa4bfd9a4d81', '_version_': 1784587388352200704}, {'driverId': 511, 'driverRef': 'branson', 'forename': 'Don', 'surname': 'Branson', 'dateOfBirth': '1920-06-02T00:00:00Z', 'nationality': 'American', 'url': 'http://en.wikipedia.org/wiki/Don_Branson', 'driver_bio': 'Donald L. Branson (June 2, 1920 – November 12, 1966) was an American racecar driver.', 'id': 'cb74e7fe-69c2-48af-ad49-2aa7695d0009', '_version_': 1784587388355346437}, {'driverId': 512, 'driverRef': 'thomson', 'forename': 'Johnny', 'surname': 'Thomson', 'dateOfBirth': '1922-04-09T00:00:00Z', 'nationality': 'American', 'url': 'http://en.wikipedia.org/wiki/Johnny_Thomson', 'driver_bio': 'John Ashley Thomson (April 9, 1922 – September 24, 1960) was an American racecar driver. Thomson was nicknamed \"the Flying Scot.\" He won several championships in midgets and sprint cars before competing in Championship Car (now IndyCar) racing. He won the pole position for the 1959 Indianapolis 500.', 'id': 'fd1d3c1b-4cd0-4ff1-b45a-6c2e8d2ff099', '_version_': 1784587388355346438}, {'driverId': 513, 'driverRef': 'johnson', 'forename': 'Eddie', 'surname': 'Johnson', 'dateOfBirth': '1919-02-10T00:00:00Z', 'nationality': 'American', 'url': 'http://en.wikipedia.org/wiki/Eddie_Johnson_(auto_racer)', 'driver_bio': 'Eddie Johnson (February 10, 1919 – June 30, 1974) was an American race car driver.Born in Richmond, Virginia, Johnson grew up in Los Angeles, where he was a high school acquaintance of 1950 Indianapolis 500 winner Johnnie Parsons. He drove in the AAA and USAC Championship Car series, racing in the 1950–1952 and 1955–1966 seasons with 33 starts, including the Indianapolis 500 races in all of those years but the first two.  He finished in the top ten 9 times, with his best finish in 3rd position, in 1959 at Trenton. Late in his career, Johnson frequently came to Indianapolis without an assigned car only to be signed on to a team which needed a driver to put a struggling car in the race. In 1965, Johnson became the last person on the track in the Indianapolis 500 mile race with a naturally aspirated Offenhauser in a roadster. Johnson was flagged to finish in 10th place.Johnson died in a plane crash near Cleveland, Ohio.  The National Transportation Safety Board ruled the probable cause was pilot error, specifically attempting to fly visually in unsuitable weather and structurally overloading the airplane.', 'id': '5187acaf-0176-419c-b37a-1b5aa15fc3d9', '_version_': 1784587388355346439}, {'driverId': 521, 'driverRef': 'stevenson', 'forename': 'Chuck', 'surname': 'Stevenson', 'dateOfBirth': '1919-10-15T00:00:00Z', 'nationality': 'American', 'url': 'http://en.wikipedia.org/wiki/Chuck_Stevenson', 'driver_bio': 'Charles Stevenson (October 15, 1919 – August 21, 1995) was an American racecar driver.', 'id': 'd2914cbb-fede-44c3-a4b2-89ba198363ac', '_version_': 1784587388356395014}, {'driverId': 539, 'driverRef': 'dempsey_wilson', 'forename': 'Dempsey', 'surname': 'Wilson', 'dateOfBirth': '1927-03-11T00:00:00Z', 'nationality': 'American', 'url': 'http://en.wikipedia.org/wiki/Dempsey_Wilson', 'driver_bio': 'Dempsey Cothrin Wilson (March 11, 1927 – April 23, 1971) was an American racecar driver.Wilson was born in Los Angeles, California. He began his racing career on Southern California short tracks, racing roadsters, then midgets and stock cars. He drove in the USAC Championship Car series, racing in the 1956, 1958–1965, and 1968–1969 seasons with 32 starts, including the Indianapolis 500 races in 1958, 1960, 1961, and 1963.  He finished in the top ten 4 times, with his best finish in 8th position in 1960 at Milwaukee.  Outside of racing, Wilson owned a business called \"Dempsey Wilson Racing Cams,\" which refurbished camshafts. He died in Duarte, California, at City of Hope after a long battle with mesothelioma.', 'id': '44a5c81e-26d5-408a-9158-305578ce4126', '_version_': 1784587388358492162}, {'driverId': 564, 'driverRef': 'larson', 'forename': 'Jud', 'surname': 'Larson', 'dateOfBirth': '1923-01-21T00:00:00Z', 'nationality': 'American', 'url': 'http://en.wikipedia.org/wiki/Jud_Larson', 'driver_bio': 'Eugene Wesley \"Jud\" Larson (January 21, 1923 Grand Prairie, Texas – June 11, 1966 Reading, Pennsylvania) was an American racecar driver.Larson drove in the USAC Championship Car series, racing in the 1956-1959 and 1964-1965 seasons with 53 starts, including the 1958 and 1959 Indianapolis 500 races.  He finished in the top ten 38 times, with 7 victories.Larson died as a result of injuries sustained in a sprint car crash that also claimed the life of Red Riegel. Larson is buried at \\tCook-Walden Capital Parks Cemetery and Mausoleum in Pflugerville, Texas.', 'id': '3f084836-2f2d-47d5-b877-6436addd7dff', '_version_': 1784587388359540751}, {'driverId': 593, 'driverRef': 'parsons', 'forename': 'Johnnie', 'surname': 'Parsons', 'dateOfBirth': '1918-07-04T00:00:00Z', 'nationality': 'American', 'url': 'http://en.wikipedia.org/wiki/Johnnie_Parsons', 'driver_bio': 'John Woodrow Parsons (born July 4, 1918 – died September 8, 1984), better known as Johnnie Parsons, was an American race car driver in the AAA and USAC Championship Car series. He was the 1949 AAA national champion, and won the 1950 Indianapolis 500.Parsons was known as a \"charger\" - needing others to compete against in order to bring out the best in him as a driver - frequently moving from near the back of the grid to the front in spectacular displays of driving ability. He drove for several seasons on a team owned by Frank Kurtis, owner of Kurtis Kraft, the leading constructor of AAA Championship cars during the early 1950s.', 'id': 'e8efacd8-25f6-45e6-8b81-cc48a84f1325', '_version_': 1784587388362686469}, {'driverId': 601, 'driverRef': 'gibson', 'forename': 'Dick', 'surname': 'Gibson', 'dateOfBirth': '1918-04-16T00:00:00Z', 'nationality': 'British', 'url': 'http://en.wikipedia.org/wiki/Dick_Gibson', 'driver_bio': 'Richard Gibson (born 1954) is a British actor.Richard Gibson may also refer to:', 'id': '1432bee0-80d3-4175-ad3f-a6227aad05b8', '_version_': 1784587388363735041}, {'driverId': 743, 'driverRef': 'thompson', 'forename': 'Eric', 'surname': 'Thompson', 'dateOfBirth': '1919-11-04T00:00:00Z', 'nationality': 'British', 'url': 'http://en.wikipedia.org/wiki/Eric_Thompson_(racing_driver)', 'driver_bio': \"Eric David Thompson (4 November 1919 – 22 August 2015) was a British racing driver, book dealer and insurance broker. He participated in sports car racing between 1949 and 1955 taking his greatest success by finishing third in the 1951 Les 24 Heures du Mans and took part in the 1952 RAC British Grand Prix.Thompson worked as a broker for Lloyd's of London. His racing career started in 1948, racing cars for HRG. He won the 1.5-litre class in the Les 24 Heures du Mans in 1949 and drove for Aston Martin driving a DB2 to third place in the 1951 24 Hours of Le Mans. He also drove in Formula Libre, RAC Tourist Trophy and Formula Two achieving minor success. He took part in his only Formula One race in the 1952 RAC British Grand Prix finishing fifth, and later spent more time working at Lloyd's. He retired from motor racing at the end of 1955. Thompson resigned from Lloyd's in the 1980s and became a dealer of rare books on motorsport.\", 'id': '594f54fa-7d88-4f4d-9693-b37aadc4da7a', '_version_': 1784587388377366529}, {'driverId': 781, 'driverRef': 'richardson', 'forename': 'Ken', 'surname': 'Richardson', 'dateOfBirth': '1911-08-21T00:00:00Z', 'nationality': 'British', 'url': 'http://en.wikipedia.org/wiki/Ken_Richardson_(race_car_driver)', 'driver_bio': 'William Kenneth Richardson (21 August 1911 in Bourne, Lincolnshire – 27 June 1997 in Bourne, Lincolnshire) was a British racing and test / development driver from England who competed in one Formula One World Championship race.Richardson started as an engineer for British Racing Motors, before becoming the main development driver for the BRM V16 project in the early 1950s. He was entered by the team to drive a BRM 15, equipped with the V16 engine, in the 1951 Italian Grand Prix. He qualified the car 10th, but was not allowed to start the race when it emerged that he did not possess the correct racing licence due to his lack of experience. He did not make another attempt at entering a World Championship Formula One race.He did, however, continue to race in both sportscars and endurance events.', 'id': '251055f9-11c7-4814-b430-d14f0e0db230', '_version_': 1784587388380512261}, {'driverId': 787, 'driverRef': 'harrison', 'forename': 'Cuth', 'surname': 'Harrison', 'dateOfBirth': '1906-07-06T00:00:00Z', 'nationality': 'British', 'url': 'http://en.wikipedia.org/wiki/Cuth_Harrison', 'driver_bio': 'Thomas Cuthbert Harrison (6 July 1906 – 21 January 1981) was a British racing driver from England. He was born in Ecclesall, Sheffield, and also died in Sheffield. He participated in three World Championship Formula One Grands Prix, debuting on 13 May 1950. He scored no championship points. He founded the T.C.Harrison Ford dealership.', 'id': 'a071065c-8b53-48a1-ad9a-97663eecbc7e', '_version_': 1784587388381560834}, {'driverId': 790, 'driverRef': 'leslie_johnson', 'forename': 'Leslie', 'surname': 'Johnson', 'dateOfBirth': '1912-03-22T00:00:00Z', 'nationality': 'British', 'url': 'http://en.wikipedia.org/wiki/Leslie_Johnson_(racing_driver)', 'driver_bio': 'Leslie George Johnson (22 March 1912 – 8 June 1959) was a British racing driver who competed in rallies, hill climbs, sports car races and Grand Prix races.', 'id': '847e8ee5-94df-476f-9e47-0560ffd98c61', '_version_': 1784587388381560837}, {'driverId': 799, 'driverRef': 'jackson', 'forename': 'Jimmy', 'surname': 'Jackson', 'dateOfBirth': '1910-07-25T00:00:00Z', 'nationality': 'American', 'url': 'http://en.wikipedia.org/wiki/Jimmy_Jackson_(driver)', 'driver_bio': 'Jimmy Jackson (July 25, 1910 – November 24, 1984) was an American racecar driver from Indianapolis, Indiana.', 'id': '157d91e2-955d-43ec-a046-31710b03fcc1', '_version_': 1784587388382609413}, {'driverId': 828, 'driverRef': 'ericsson', 'number': 9, 'code': 'ERI', 'forename': 'Marcus', 'surname': 'Ericsson', 'dateOfBirth': '1990-09-02T00:00:00Z', 'nationality': 'Swedish', 'url': 'http://en.wikipedia.org/wiki/Marcus_Ericsson', 'driver_bio': \"Marcus Thorbjörn Ericsson (Swedish pronunciation: [ˈmǎr:kɵs ˈtuːr:bjøːɳ ˈêːrɪk:sɔn]; born 2 September 1990) is a Swedish professional racing driver. He competes in the NTT IndyCar Series, driving the No. 8 Honda for Chip Ganassi Racing and is the 2022 Indianapolis 500 winner. Ericsson previously competed in Formula One between 2014 and 2018.After a successful debut in car racing in 2007 which saw him take the British Formula BMW title with Fortec Motorsport, he moved up into the British team's British Formula Three Championship squad. After finishing as one of the top rookies in the category, Ericsson turned his attentions to the All-Japan Formula Three Championship where he won the championship in his debut year. In 2010, he moved up to the GP2 Series where he secured one victory during his maiden campaign for Super Nova Racing. Between 2011 and 2012, Ericsson drove for iSport. Ericsson completed the 2013 GP2 season with DAMS, and debuted in Formula One in 2014 with Caterham F1.\", 'id': '01959a39-3e22-4018-a862-cabfb37eda12', '_version_': 1784587388386803715}, {'driverId': 859, 'driverRef': 'lawson', 'number': 15, 'code': 'LAW', 'forename': 'Liam', 'surname': 'Lawson', 'dateOfBirth': '2002-02-11T00:00:00Z', 'nationality': 'New Zealander', 'url': 'http://en.wikipedia.org/wiki/Liam_Lawson', 'driver_bio': 'Liam Lawson (born 11 February 2002) is a New Zealander motor racing driver currently competing in Formula One for Scuderia AlphaTauri as a reserve driver and Super Formula Championship with Team Mugen. Lawson, who is mentored by three-time New Zealand Grand Prix winner Ken Smith, previously competed for the Carlin team in the FIA Formula 2 Championship, where he finished third in 2022. He is a previous Toyota Racing Series champion and member of the Red Bull Junior Team, In 2021, he also raced for the Red Bull AF Corse team in the Deutsche Tourenwagen Masters, partnering Alex Albon, narrowly missing out on the championship in the last round.Lawson also currently serves as a reserve driver for Red Bull Racing. He made his Formula One debut at the 2023 Dutch Grand Prix, replacing Daniel Ricciardo at AlphaTauri after Ricciardo sustained a broken bone in his hand during a crash in free practice. He achieved his first points in Formula One at his third race, the 2023 Singapore Grand Prix.', 'id': 'f80f70ca-a18a-45af-a6fb-abf70132472e', '_version_': 1784587388390998016}]\n",
      "['Davidson', 'Johansson', 'Acheson', 'Watson', 'Peterson', 'Nilsson', 'Andersson', 'Nicholson', 'Revson', 'Williamson']\n"
     ]
    }
   ],
   "source": [
    "# SETUP\n",
    "import matplotlib.pyplot as plt\n",
    "from sklearn.metrics import PrecisionRecallDisplay\n",
    "import numpy as np\n",
    "import json\n",
    "import requests\n",
    "import pandas as pd\n",
    "\n",
    "\n",
    "QRELS_FILE_1 = \"qrels/qrel1.txt\" # USA tracks\n",
    "QRELS_FILE_2 = \"qrels/qrel2.txt\" # Driver surenames ending in \"son\"\n",
    "QRELS_FILE_3 = \"qrels/qrel3.txt\" # German drivers\n",
    "\n",
    "\n",
    "# Queries\n",
    "# Tracks in the USA using semantic search\n",
    "# no url, just call get_embeddings.py\n",
    "\n",
    "# Driver surnames ending in \"son\"\n",
    "QUERY_URL_2 = \"http://localhost:8983/solr/drivers/select?indent=true&q.op=OR&q=surname%3A*son&rows=32&useParams=\"\n",
    "\n",
    "# German and Driver separated by at most 4 words\n",
    "QUERY_URL_3 = \"TODO:\"\n",
    "\n",
    "#TODO: Make new queries and organize them in a dictionary or list or tuples\n",
    "# Drivers whare born in or after 1990\n",
    "# QUERY_URL_2 = \"\"\n",
    "\n",
    "querys_dict = {\n",
    "    'query2': [QRELS_FILE_2, QUERY_URL_2, 'surname'],\n",
    "    'query3': [QRELS_FILE_3, QUERY_URL_3, 'driver_bio'],\n",
    "}\n",
    "\n",
    "query = 'query2'\n",
    "\n",
    "# Read qrels to extract relevant documents\n",
    "relevant = list(map(lambda el: el.strip(), open(querys_dict[query][0], encoding=\"utf-8\").readlines()))\n",
    "\n",
    "# Get query results from Solr instance\n",
    "results = requests.get(querys_dict[query][1]).json()[\"response\"][\"docs\"]\n",
    "\n",
    "print(results)\n",
    "\n",
    "# from results get a list of 10 first surnames\n",
    "aux = 0\n",
    "surnames = []\n",
    "for result in results:\n",
    "    if aux < 10:\n",
    "        surnames.append(result['surname'])\n",
    "        aux += 1\n",
    "    else:\n",
    "        break\n",
    "\n",
    "print(surnames)\n",
    "\n",
    "# METRICS TABLE\n",
    "# Define custom decorator to automatically calculate metric based on key\n",
    "metrics = {}\n",
    "metric = lambda f: metrics.setdefault(f.__name__, f)"
   ]
  },
  {
   "cell_type": "markdown",
   "metadata": {},
   "source": [
    "### Precision metric"
   ]
  },
  {
   "cell_type": "code",
   "execution_count": 197,
   "metadata": {},
   "outputs": [],
   "source": [
    "@metric\n",
    "def ap(results, relevant):\n",
    "    \"\"\"Average Precision\"\"\"\n",
    "    precision_values = []\n",
    "    relevant_count = 0\n",
    "    \n",
    "    for idx, doc in enumerate(results):\n",
    "        if doc[querys_dict[query][2]] in relevant:\n",
    "            relevant_count += 1\n",
    "            precision_at_k = relevant_count / (idx + 1)\n",
    "            precision_values.append(precision_at_k)\n",
    "\n",
    "    if not precision_values:\n",
    "        return 0.0\n",
    "\n",
    "    return sum(precision_values)/len(precision_values)"
   ]
  },
  {
   "cell_type": "markdown",
   "metadata": {},
   "source": [
    "### Precision at 10 metric"
   ]
  },
  {
   "cell_type": "code",
   "execution_count": 198,
   "metadata": {},
   "outputs": [],
   "source": [
    "@metric\n",
    "def p10(results, relevant, n=10):\n",
    "    \"\"\"Precision at N\"\"\"\n",
    "    return len([doc for doc in results[:n] if doc[querys_dict[query][2]] in relevant])/n"
   ]
  },
  {
   "cell_type": "code",
   "execution_count": 199,
   "metadata": {},
   "outputs": [],
   "source": [
    "@metric\n",
    "def p5(results, relevant, n=5):\n",
    "    \"\"\"Precision at N\"\"\"\n",
    "    return len([doc for doc in results[:n] if doc[querys_dict[query][2]] in relevant])/n"
   ]
  },
  {
   "cell_type": "markdown",
   "metadata": {},
   "source": [
    "### Main function to calculate metrics"
   ]
  },
  {
   "cell_type": "code",
   "execution_count": 200,
   "metadata": {},
   "outputs": [],
   "source": [
    "def calculate_metric(key, results, relevant):\n",
    "    return metrics[key](results, relevant)\n",
    "\n",
    "# Define metrics to be calculated\n",
    "evaluation_metrics = {\n",
    "    'ap': 'Average Precision',\n",
    "    'p10': 'Precision at 10 (P@10)'\n",
    "}\n",
    "\n",
    "# Calculate all metrics and export results as LaTeX table\n",
    "df = pd.DataFrame([['Metric','Value']] +\n",
    "    [\n",
    "        [evaluation_metrics[m], calculate_metric(m, results, relevant)]\n",
    "        for m in evaluation_metrics\n",
    "    ]\n",
    ")\n",
    "\n",
    "with open('results_2.tex','w') as tf:\n",
    "    tf.write(df.style.to_latex())"
   ]
  },
  {
   "cell_type": "markdown",
   "metadata": {},
   "source": [
    "### Precision-Recall metric"
   ]
  },
  {
   "cell_type": "code",
   "execution_count": 201,
   "metadata": {},
   "outputs": [
    {
     "data": {
      "image/png": "[encoded data removed]",
      "text/plain": [
       "<Figure size 640x480 with 1 Axes>"
      ]
     },
     "metadata": {},
     "output_type": "display_data"
    }
   ],
   "source": [
    "# PRECISION-RECALL CURVE\n",
    "# Calculate precision and recall values as we move down the ranked list\n",
    "precision_values = [\n",
    "    len([\n",
    "        doc \n",
    "        for doc in results[:idx]\n",
    "        if doc[querys_dict[query][2]] in relevant\n",
    "    ]) / idx \n",
    "    for idx, _ in enumerate(results, start=1)\n",
    "]\n",
    "\n",
    "recall_values = [\n",
    "    len([\n",
    "        doc for doc in results[:idx]\n",
    "        if doc[querys_dict[query][2]] in relevant\n",
    "    ]) / len(relevant)\n",
    "    for idx, _ in enumerate(results, start=1)\n",
    "]\n",
    "\n",
    "precision_recall_match = {k: v for k,v in zip(recall_values, precision_values)}\n",
    "\n",
    "# Extend recall_values to include traditional steps for a better curve (0.1, 0.2 ...)\n",
    "recall_values.extend([step for step in np.arange(0.1, 1.1, 0.1) if step not in recall_values])\n",
    "recall_values = sorted(set(recall_values))\n",
    "\n",
    "# Extend matching dict to include these new intermediate steps\n",
    "for idx, step in enumerate(recall_values):\n",
    "    if step not in precision_recall_match:\n",
    "        if recall_values[idx-1] in precision_recall_match:\n",
    "            precision_recall_match[step] = precision_recall_match[recall_values[idx-1]]\n",
    "        else:\n",
    "            precision_recall_match[step] = precision_recall_match[recall_values[idx+1]]\n",
    "\n",
    "disp = PrecisionRecallDisplay([precision_recall_match.get(r) for r in recall_values], recall_values)\n",
    "disp.plot()\n",
    "plt.savefig('precision_recall_' + query + '.png')\n"
   ]
  }
 ],
 "metadata": {
  "kernelspec": {
   "display_name": "base",
   "language": "python",
   "name": "python3"
  },
  "language_info": {
   "codemirror_mode": {
    "name": "ipython",
    "version": 3
   },
   "file_extension": ".py",
   "mimetype": "text/x-python",
   "name": "python",
   "nbconvert_exporter": "python",
   "pygments_lexer": "ipython3",
   "version": "3.11.6"
  }
 },
 "nbformat": 4,
 "nbformat_minor": 2
}
