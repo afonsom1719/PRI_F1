{
 "cells": [
  {
   "cell_type": "markdown",
   "metadata": {},
   "source": [
    "# Metrics "
   ]
  },
  {
   "cell_type": "markdown",
   "metadata": {},
   "source": [
    "### Setup imports, qrels files and query URL's"
   ]
  },
  {
   "cell_type": "code",
   "execution_count": 27,
   "metadata": {},
   "outputs": [
    {
     "name": "stdout",
     "output_type": "stream",
     "text": [
      "[{'driverId': 691, 'driverRef': 'lang', 'forename': 'Hermann', 'surname': 'Lang', 'dateOfBirth': '1909-04-06T00:00:00Z', 'nationality': 'German', 'url': 'http://en.wikipedia.org/wiki/Hermann_Lang', 'driver_bio': 'Hermann Albert Lang (6 April 1909 – 19 October 1987) was a German racing driver who raced motorcycles, Grand Prix cars, and sports cars.', 'id': 'f39c3adb-8446-4bb0-b6d1-8cab1a6a8efd', '_version_': 1784587388372123650}, {'driverId': 146, 'driverRef': 'schneider', 'forename': 'Bernd', 'surname': 'Schneider', 'dateOfBirth': '1964-07-20T00:00:00Z', 'nationality': 'German', 'url': 'http://en.wikipedia.org/wiki/Bernd_Schneider_(racecar_driver)', 'driver_bio': 'Bernd Robert Schneider (born 20 July 1964) is a German racing driver. He is a five-time Deutsche Tourenwagen Masters champion, and a Mercedes Brand Ambassador.', 'id': 'e49f963d-9016-4961-87d2-cdbd74b8a709', '_version_': 1784587388281946113}, {'driverId': 270, 'driverRef': 'ashley', 'forename': 'Ian', 'surname': 'Ashley', 'dateOfBirth': '1947-10-26T00:00:00Z', 'nationality': 'British', 'url': 'http://en.wikipedia.org/wiki/Ian_Ashley', 'driver_bio': 'Ian Hugh Gordon Ashley (born 26 October 1947 in Wuppertal, Germany) is a British-German racing driver who raced in Formula One for the Token, Williams, BRM and Hesketh teams.', 'id': 'a3446ae7-60d4-4cf5-beb2-675a7a09a01e', '_version_': 1784587388309209088}, {'driverId': 233, 'driverRef': 'stuck', 'forename': 'Hans-Joachim', 'surname': 'Stuck', 'dateOfBirth': '1951-01-01T00:00:00Z', 'nationality': 'German', 'url': 'http://en.wikipedia.org/wiki/Hans_Joachim_Stuck', 'driver_bio': 'Hans-Joachim Stuck (born 1 January 1951), nicknamed \"Strietzel\", is a German racing driver who has competed in Formula One and many other categories. He is the son of pre-World War II racing driver Hans Stuck.', 'id': '357254a1-5e40-4bc0-8d10-2fdb3bf7156f', '_version_': 1784587388301869057}, {'driverId': 713, 'driverRef': 'fitzau', 'forename': 'Theo', 'surname': 'Fitzau', 'dateOfBirth': '1923-02-10T00:00:00Z', 'nationality': 'East German', 'url': 'http://en.wikipedia.org/wiki/Theo_Fitzau', 'driver_bio': 'Theodor Fitzau (10 February 1923 in Köthen, Germany (later East Germany) – 18 March 1982 in Groß-Gerau, West Germany) was a racing driver from East Germany.  Generally a Formula Two racer, he participated in one World Championship Grand Prix, the 1953 German Grand Prix, driving an AFM owned by fellow driver Helmut Niedermayr.  He retired from the race, scoring no championship points.', 'id': 'c5db73fb-7175-461a-9014-6ba0b00a92f8', '_version_': 1784587388374220812}, {'driverId': 476, 'driverRef': 'trips', 'forename': 'Wolfgang', 'surname': 'von Trips', 'dateOfBirth': '1928-05-04T00:00:00Z', 'nationality': 'German', 'url': 'http://en.wikipedia.org/wiki/Wolfgang_Graf_Berghe_von_Trips', 'driver_bio': \"Wolfgang Alexander Albert Eduard Maximilian Reichsgraf Berghe von Trips (German pronunciation: [ˈvɔlfɡaŋ fɔn tʁɪps] ⓘ; 4 May 1928 – 10 September 1961), also known simply as Wolfgang Graf Berghe von Trips and nicknamed 'Taffy' by friends and fellow racers, was a German racing driver. He was the son of a noble Rhineland family.\", 'id': '5c27de02-4e0a-4529-83bd-ce8e3e77d695', '_version_': 1784587388351152139}, {'driverId': 181, 'driverRef': 'manfred_winkelhock', 'forename': 'Manfred', 'surname': 'Winkelhock', 'dateOfBirth': '1951-10-06T00:00:00Z', 'nationality': 'German', 'url': 'http://en.wikipedia.org/wiki/Manfred_Winkelhock', 'driver_bio': 'Manfred Winkelhock (6 October 1951 – 12 August 1985) was a German racing driver. He participated in 56 Formula One Grands Prix (with 47 starts) between 1980 and 1985, driving for Arrows, ATS, Brabham and RAM Racing, with a best finish of fifth at the 1982 Brazilian Grand Prix. He is the older brother of Joachim and Thomas Winkelhock and father of Markus Winkelhock, who are all also racing drivers.', 'id': 'f3c7d7d0-a3c0-418f-99e0-15692b95ccf5', '_version_': 1784587388289286147}, {'driverId': 200, 'driverRef': 'mass', 'forename': 'Jochen', 'surname': 'Mass', 'dateOfBirth': '1946-09-30T00:00:00Z', 'nationality': 'German', 'url': 'http://en.wikipedia.org/wiki/Jochen_Mass', 'driver_bio': 'Jochen Richard Mass (born 30 September 1946) is a German former racing driver.', 'id': 'd3de330d-90f5-4938-b750-e98ba622008d', '_version_': 1784587388293480451}, {'driverId': 268, 'driverRef': 'heyer', 'forename': 'Hans', 'surname': 'Heyer', 'dateOfBirth': '1943-03-16T00:00:00Z', 'nationality': 'German', 'url': 'http://en.wikipedia.org/wiki/Hans_Heyer', 'driver_bio': \"Hans Heyer (born 16 March 1943) is a German racing driver who mainly raced touring cars, being popular with the fans for his rather funny style. He is better known for actions and antics during his only start in Formula One at the 1977 German Grand Prix.Very unusual for his Western German origin, Heyer's sign is his so-called Tirolerhut, a hat from Tyrol or Bavaria which would fit better to drivers from these Alpine regions, like Hans-Joachim Stuck or Niki Lauda.\", 'id': '3edfdd85-96b4-4105-bfb4-188871042b75', '_version_': 1784587388308160516}, {'driverId': 715, 'driverRef': 'bechem', 'forename': 'Günther', 'surname': 'Bechem', 'dateOfBirth': '1921-12-21T00:00:00Z', 'nationality': 'German', 'url': 'http://en.wikipedia.org/wiki/G%C3%BCnther_Bechem', 'driver_bio': 'Karl-Günther Bechem (alias: \"Bernhard Nacke\") (21 December 1921 – 3 May 2011) was a racing driver from Germany.Bechem started out in sports car racing before competing in Formula Two in the 1952 German Grand Prix, driving a BMW under the alias \"Bernhard Nacke\". He failed to finish the race, and so did not score any World Championship points. He continued driving an ex-Karl Gommann AFM-BMW (chassis 50–5) in Formula Two in 1953, at AVUS and then in the German Grand Prix at Nürburgring, again failing to finish.  He was more successful in sports car racing with the Borgward team.In 1954 Bechem crashed heavily while competing in the Carrera Panamericana, and although he recovered fully from his injuries, he never raced again at this high level.', 'id': 'd25a7b11-2f71-49f3-ad86-310d8fedd6c7', '_version_': 1784587388375269377}]\n",
      "['Lang', 'Schneider', 'Ashley', 'Stuck', 'Fitzau', 'von Trips', 'Winkelhock', 'Mass', 'Heyer', 'Bechem']\n"
     ]
    }
   ],
   "source": [
    "# SETUP\n",
    "import matplotlib.pyplot as plt\n",
    "from sklearn.metrics import PrecisionRecallDisplay\n",
    "import numpy as np\n",
    "import json\n",
    "import requests\n",
    "import pandas as pd\n",
    "\n",
    "\n",
    "QRELS_FILE_1 = \"qrels/qrel1.txt\" # USA tracks\n",
    "QRELS_FILE_2 = \"qrels/qrel2.txt\" # Driver surenames ending in \"son\"\n",
    "QRELS_FILE_3 = \"qrels/qrel3.txt\" # German drivers\n",
    "QRELS_FILE_3_1 = \"qrels/qrel3_temp.txt\" # German drivers\n",
    "\n",
    "# Queries\n",
    "# Tracks in the USA using semantic search\n",
    "# no url, just call get_embeddings.py\n",
    "\n",
    "# Driver surnames ending in \"son\"\n",
    "QUERY_URL_2 = \"http://localhost:8983/solr/drivers/select?indent=true&q.op=OR&q=surname%3A*son&rows=32&useParams=\"\n",
    "\n",
    "# German and Driver separated by at most 3 words\n",
    "QUERY_URL_3 = \"http://localhost:8983/solr/drivers/select?indent=true&q.op=OR&q=driver_bio%3A%22german%20driver%22~3&useParams=\"\n",
    "\n",
    "#TODO: Make new queries and organize them in a dictionary or list or tuples\n",
    "# Drivers whare born in or after 1990\n",
    "# QUERY_URL_2 = \"\"\n",
    "\n",
    "querys_dict = {\n",
    "    'query2': [QRELS_FILE_2, QUERY_URL_2, 'surname'],\n",
    "    'query3': [QRELS_FILE_3_1, QUERY_URL_3, 'driverRef'],\n",
    "}\n",
    "\n",
    "query = 'query3'\n",
    "\n",
    "# Read qrels to extract relevant documents\n",
    "relevant = list(map(lambda el: el.strip(), open(querys_dict[query][0], encoding=\"utf-8\").readlines()))\n",
    "\n",
    "# Get query results from Solr instance\n",
    "results = requests.get(querys_dict[query][1]).json()[\"response\"][\"docs\"]\n",
    "\n",
    "print(results)\n",
    "\n",
    "# from results get a list of 10 first surnames\n",
    "aux = 0\n",
    "surnames = []\n",
    "for result in results:\n",
    "    if aux < 10:\n",
    "        surnames.append(result['surname'])\n",
    "        aux += 1\n",
    "    else:\n",
    "        break\n",
    "\n",
    "print(surnames)\n",
    "\n",
    "# METRICS TABLE\n",
    "# Define custom decorator to automatically calculate metric based on key\n",
    "metrics = {}\n",
    "metric = lambda f: metrics.setdefault(f.__name__, f)"
   ]
  },
  {
   "cell_type": "markdown",
   "metadata": {},
   "source": [
    "### Precision metric"
   ]
  },
  {
   "cell_type": "code",
   "execution_count": 28,
   "metadata": {},
   "outputs": [],
   "source": [
    "@metric\n",
    "def ap(results, relevant):\n",
    "    \"\"\"Average Precision\"\"\"\n",
    "    precision_values = []\n",
    "    relevant_count = 0\n",
    "    \n",
    "    for idx, doc in enumerate(results):\n",
    "        if doc[querys_dict[query][2]] in relevant:\n",
    "            relevant_count += 1\n",
    "            precision_at_k = relevant_count / (idx + 1)\n",
    "            precision_values.append(precision_at_k)\n",
    "\n",
    "    if not precision_values:\n",
    "        return 0.0\n",
    "\n",
    "    return sum(precision_values)/len(precision_values)"
   ]
  },
  {
   "cell_type": "markdown",
   "metadata": {},
   "source": [
    "### Precision at 10 metric"
   ]
  },
  {
   "cell_type": "code",
   "execution_count": 29,
   "metadata": {},
   "outputs": [],
   "source": [
    "@metric\n",
    "def p10(results, relevant, n=10):\n",
    "    \"\"\"Precision at N\"\"\"\n",
    "    return len([doc for doc in results[:n] if doc[querys_dict[query][2]] in relevant])/n"
   ]
  },
  {
   "cell_type": "code",
   "execution_count": 30,
   "metadata": {},
   "outputs": [],
   "source": [
    "@metric\n",
    "def p5(results, relevant, n=5):\n",
    "    \"\"\"Precision at N\"\"\"\n",
    "    return len([doc for doc in results[:n] if doc[querys_dict[query][2]] in relevant])/n"
   ]
  },
  {
   "cell_type": "code",
   "execution_count": 31,
   "metadata": {},
   "outputs": [],
   "source": [
    "@metric\n",
    "def p8(results, relevant, n=8):\n",
    "    \"\"\"Precision at N\"\"\"\n",
    "    return len([doc for doc in results[:n] if doc[querys_dict[query][2]] in relevant])/n"
   ]
  },
  {
   "cell_type": "markdown",
   "metadata": {},
   "source": [
    "### Main function to calculate metrics"
   ]
  },
  {
   "cell_type": "code",
   "execution_count": 32,
   "metadata": {},
   "outputs": [],
   "source": [
    "def calculate_metric(key, results, relevant):\n",
    "    return metrics[key](results, relevant)\n",
    "\n",
    "# Define metrics to be calculated\n",
    "evaluation_metrics = {\n",
    "    'ap': 'Average Precision',\n",
    "    'p5': 'Precision at 5 (P@5)',\n",
    "    'p8': 'Precision at 8 (P@8)',\n",
    "    'p10': 'Precision at 10 (P@10)'\n",
    "}\n",
    "\n",
    "# Calculate all metrics and export results as LaTeX table\n",
    "df = pd.DataFrame([['Metric','Value']] +\n",
    "    [\n",
    "        [evaluation_metrics[m], calculate_metric(m, results, relevant)]\n",
    "        for m in evaluation_metrics\n",
    "    ]\n",
    ")\n",
    "\n",
    "with open('results_3.tex','w') as tf:\n",
    "    tf.write(df.style.to_latex())"
   ]
  },
  {
   "cell_type": "markdown",
   "metadata": {},
   "source": [
    "### Precision-Recall metric"
   ]
  },
  {
   "cell_type": "code",
   "execution_count": 33,
   "metadata": {},
   "outputs": [
    {
     "data": {
      "image/png": "[encoded data removed]",
      "text/plain": [
       "<Figure size 640x480 with 1 Axes>"
      ]
     },
     "metadata": {},
     "output_type": "display_data"
    }
   ],
   "source": [
    "# PRECISION-RECALL CURVE\n",
    "# Calculate precision and recall values as we move down the ranked list\n",
    "precision_values = [\n",
    "    len([\n",
    "        doc \n",
    "        for doc in results[:idx]\n",
    "        if doc[querys_dict[query][2]] in relevant\n",
    "    ]) / idx \n",
    "    for idx, _ in enumerate(results, start=1)\n",
    "]\n",
    "\n",
    "recall_values = [\n",
    "    len([\n",
    "        doc for doc in results[:idx]\n",
    "        if doc[querys_dict[query][2]] in relevant\n",
    "    ]) / len(relevant)\n",
    "    for idx, _ in enumerate(results, start=1)\n",
    "]\n",
    "\n",
    "precision_recall_match = {k: v for k,v in zip(recall_values, precision_values)}\n",
    "\n",
    "# Extend recall_values to include traditional steps for a better curve (0.1, 0.2 ...)\n",
    "recall_values.extend([step for step in np.arange(0.1, 1.1, 0.1) if step not in recall_values])\n",
    "recall_values = sorted(set(recall_values))\n",
    "\n",
    "# Extend matching dict to include these new intermediate steps\n",
    "for idx, step in enumerate(recall_values):\n",
    "    if step not in precision_recall_match:\n",
    "        if recall_values[idx-1] in precision_recall_match:\n",
    "            precision_recall_match[step] = precision_recall_match[recall_values[idx-1]]\n",
    "        else:\n",
    "            precision_recall_match[step] = precision_recall_match[recall_values[idx+1]]\n",
    "\n",
    "disp = PrecisionRecallDisplay([precision_recall_match.get(r) for r in recall_values], recall_values)\n",
    "disp.plot()\n",
    "plt.savefig('precision_recall_' + query + '.png')\n"
   ]
  }
 ],
 "metadata": {
  "kernelspec": {
   "display_name": "base",
   "language": "python",
   "name": "python3"
  },
  "language_info": {
   "codemirror_mode": {
    "name": "ipython",
    "version": 3
   },
   "file_extension": ".py",
   "mimetype": "text/x-python",
   "name": "python",
   "nbconvert_exporter": "python",
   "pygments_lexer": "ipython3",
   "version": "3.11.6"
  }
 },
 "nbformat": 4,
 "nbformat_minor": 2
}
