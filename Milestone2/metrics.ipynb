{
 "cells": [
  {
   "cell_type": "markdown",
   "metadata": {},
   "source": [
    "# Metrics "
   ]
  },
  {
   "cell_type": "markdown",
   "metadata": {},
   "source": [
    "### Setup imports, qrels files and query URL's"
   ]
  },
  {
   "cell_type": "code",
   "execution_count": 27,
   "metadata": {},
   "outputs": [],
   "source": [
    "# SETUP\n",
    "import matplotlib.pyplot as plt\n",
    "from sklearn.metrics import PrecisionRecallDisplay\n",
    "import numpy as np\n",
    "import json\n",
    "import requests\n",
    "import pandas as pd\n",
    "\n",
    "\n",
    "QRELS_FILE = \"qrels/qrel1_constructors.txt\"\n",
    "\n",
    "# Queries\n",
    "# Constructors that have british nationality and mentions 1990 in their description\n",
    "QUERY_URL = \"http://localhost:8983/solr/constructors/select?fq=constructor_bio%3A1990&indent=true&q.op=AND&q=nationality%3Abritish&useParams=\"\n",
    "\n",
    "#TODO: Make new queries and organize them in a dictionary or list or tuples\n",
    "# Drivers whare born in or after 1990\n",
    "QUERY_URL_2 = \"\"\n",
    "\n",
    "\n",
    "\n",
    "\n",
    "# Read qrels to extract relevant documents\n",
    "relevant = list(map(lambda el: el.strip(), open(QRELS_FILE).readlines()))\n",
    "\n",
    "# Get query results from Solr instance\n",
    "results = requests.get(QUERY_URL).json()[\"response\"][\"docs\"]\n",
    "\n",
    "# METRICS TABLE\n",
    "# Define custom decorator to automatically calculate metric based on key\n",
    "metrics = {}\n",
    "metric = lambda f: metrics.setdefault(f.__name__, f)"
   ]
  },
  {
   "cell_type": "markdown",
   "metadata": {},
   "source": [
    "### Precision metric"
   ]
  },
  {
   "cell_type": "code",
   "execution_count": 28,
   "metadata": {},
   "outputs": [],
   "source": [
    "@metric\n",
    "def ap(results, relevant):\n",
    "    \"\"\"Average Precision\"\"\"\n",
    "    precision_values = []\n",
    "    relevant_count = 0\n",
    "\n",
    "    for idx, doc in enumerate(results):\n",
    "        if doc['constructor_bio'] in relevant:\n",
    "            relevant_count += 1\n",
    "            precision_at_k = relevant_count / (idx + 1)\n",
    "            precision_values.append(precision_at_k)\n",
    "\n",
    "    if not precision_values:\n",
    "        return 0.0\n",
    "\n",
    "    return sum(precision_values)/len(precision_values)"
   ]
  },
  {
   "cell_type": "markdown",
   "metadata": {},
   "source": [
    "### Precision at 10 metric"
   ]
  },
  {
   "cell_type": "code",
   "execution_count": 29,
   "metadata": {},
   "outputs": [],
   "source": [
    "@metric\n",
    "def p10(results, relevant, n=10):\n",
    "    \"\"\"Precision at N\"\"\"\n",
    "    return len([doc for doc in results[:n] if doc['constructor_bio'] in relevant])/n"
   ]
  },
  {
   "cell_type": "markdown",
   "metadata": {},
   "source": [
    "### Main function to calculate metrics"
   ]
  },
  {
   "cell_type": "code",
   "execution_count": 30,
   "metadata": {},
   "outputs": [],
   "source": [
    "def calculate_metric(key, results, relevant):\n",
    "    return metrics[key](results, relevant)\n",
    "\n",
    "# Define metrics to be calculated\n",
    "evaluation_metrics = {\n",
    "    'ap': 'Average Precision',\n",
    "    'p10': 'Precision at 10 (P@10)'\n",
    "}\n",
    "\n",
    "# Calculate all metrics and export results as LaTeX table\n",
    "df = pd.DataFrame([['Metric','Value']] +\n",
    "    [\n",
    "        [evaluation_metrics[m], calculate_metric(m, results, relevant)]\n",
    "        for m in evaluation_metrics\n",
    "    ]\n",
    ")\n",
    "\n",
    "with open('results_1.tex','w') as tf:\n",
    "    tf.write(df.style.to_latex())"
   ]
  },
  {
   "cell_type": "markdown",
   "metadata": {},
   "source": [
    "### Precision-Recall metric"
   ]
  },
  {
   "cell_type": "code",
   "execution_count": 31,
   "metadata": {},
   "outputs": [
    {
     "data": {
      "image/png": "[encoded data removed]",
      "text/plain": [
       "<Figure size 432x288 with 1 Axes>"
      ]
     },
     "metadata": {
      "needs_background": "light"
     },
     "output_type": "display_data"
    }
   ],
   "source": [
    "# PRECISION-RECALL CURVE\n",
    "# Calculate precision and recall values as we move down the ranked list\n",
    "precision_values = [\n",
    "    len([\n",
    "        doc \n",
    "        for doc in results[:idx]\n",
    "        if doc['constructor_bio'] in relevant\n",
    "    ]) / idx \n",
    "    for idx, _ in enumerate(results, start=1)\n",
    "]\n",
    "\n",
    "recall_values = [\n",
    "    len([\n",
    "        doc for doc in results[:idx]\n",
    "        if doc['constructor_bio'] in relevant\n",
    "    ]) / len(relevant)\n",
    "    for idx, _ in enumerate(results, start=1)\n",
    "]\n",
    "\n",
    "precision_recall_match = {k: v for k,v in zip(recall_values, precision_values)}\n",
    "\n",
    "# Extend recall_values to include traditional steps for a better curve (0.1, 0.2 ...)\n",
    "recall_values.extend([step for step in np.arange(0.1, 1.1, 0.1) if step not in recall_values])\n",
    "recall_values = sorted(set(recall_values))\n",
    "\n",
    "# Extend matching dict to include these new intermediate steps\n",
    "for idx, step in enumerate(recall_values):\n",
    "    if step not in precision_recall_match:\n",
    "        if recall_values[idx-1] in precision_recall_match:\n",
    "            precision_recall_match[step] = precision_recall_match[recall_values[idx-1]]\n",
    "        else:\n",
    "            precision_recall_match[step] = precision_recall_match[recall_values[idx+1]]\n",
    "\n",
    "disp = PrecisionRecallDisplay([precision_recall_match.get(r) for r in recall_values], recall_values)\n",
    "disp.plot()\n",
    "plt.savefig('precision_recall_1.pdf')\n"
   ]
  }
 ],
 "metadata": {
  "kernelspec": {
   "display_name": "base",
   "language": "python",
   "name": "python3"
  },
  "language_info": {
   "codemirror_mode": {
    "name": "ipython",
    "version": 3
   },
   "file_extension": ".py",
   "mimetype": "text/x-python",
   "name": "python",
   "nbconvert_exporter": "python",
   "pygments_lexer": "ipython3",
   "version": "3.8.8"
  }
 },
 "nbformat": 4,
 "nbformat_minor": 2
}
